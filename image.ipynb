{
 "cells": [
  {
   "cell_type": "code",
   "execution_count": null,
   "metadata": {},
   "outputs": [],
   "source": [
    "import os\n",
    "import httpx\n",
    "from openai import AzureOpenAI\n",
    "from PIL import Image\n",
    "import os\n",
    "\n",
    "client = AzureOpenAI(\n",
    "    api_version=\"2024-02-01\",  \n",
    "    api_key= os.getenv(\"IMAGE_API_KEY\"),  \n",
    "    azure_endpoint=\"https://mjain-m49csprt-swedencentral.cognitiveservices.azure.com/openai/deployments/dalle/images/generations?api-version=2024-02-01\"\n",
    ")\n",
    "prompt = input(\"WHat image would you like to see\")\n",
    "            \n",
    "result = client.images.generate(\n",
    "    model=\"dalle3\", # the name of your DALL-E 3 deployment\n",
    "    prompt= prompt,\n",
    "    n=1\n",
    " )\n",
    "            \n",
    "# Set the directory for the stored image\n",
    "image_dir = os.path.join(os.curdir, 'images')\n",
    "            \n",
    "# If the directory doesn't exist, create it\n",
    "if not os.path.isdir(image_dir):\n",
    "    os.mkdir(image_dir)\n",
    "            \n",
    "# Initialize the image path (note the filetype should be png)\n",
    "image_path = os.path.join(image_dir, 'generated_image.png')\n",
    "           \n",
    "# Retrieve the generated image\n",
    "image_url = result.data[0].url  # extract image URL from response\n",
    "generated_image = httpx.get(image_url).content  # download the image\n",
    "with open(image_path, \"wb\") as image_file:\n",
    "    image_file.write(generated_image)\n",
    "            \n",
    "# Display the image in the default image viewer\n",
    "image = Image.open(image_path)\n",
    "image.show()"
   ]
  }
 ],
 "metadata": {
  "language_info": {
   "name": "python"
  }
 },
 "nbformat": 4,
 "nbformat_minor": 2
}
